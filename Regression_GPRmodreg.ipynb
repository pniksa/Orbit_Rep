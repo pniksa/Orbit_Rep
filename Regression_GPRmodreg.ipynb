{
 "cells": [
  {
   "cell_type": "code",
   "execution_count": 371,
   "metadata": {},
   "outputs": [],
   "source": [
    "import pandas as pd\n",
    "import numpy as np\n",
    "import pickle\n",
    "import matplotlib.pyplot as plt\n",
    "import seaborn as sns \n",
    "import bokeh.plotting as bkh\n",
    "from bokeh.io import output_notebook\n",
    "from datetime import datetime\n",
    "from datetime import timedelta\n",
    "from sgp4.earth_gravity import wgs72 #wgs84, wgs72old\n",
    "from sgp4.io import twoline2rv\n",
    "import sklearn.preprocessing as ppimport\n",
    "from bokeh.models import ColumnDataSource, DataRange1d, Plot, LinearAxis, Grid, Range1d, LabelSet, Label, LogAxis, GMapOptions\n",
    "from bokeh.io import export_svgs, output_file, show, export_png\n",
    "from bokeh.transform import dodge\n",
    "import bokeh.colors as colors\n",
    "from bokeh.colors import Color\n",
    "from bokeh.models.ranges import FactorRange\n",
    "from mpl_toolkits.mplot3d import Axes3D \n",
    "import plotly.graph_objects as go\n",
    "from sgp4.earth_gravity import wgs72 #wgs84, wgs72old\n",
    "from sgp4.io import twoline2rv\n",
    "from sklearn.tree import DecisionTreeRegressor\n",
    "from sklearn.linear_model import LinearRegression\n",
    "from sklearn.model_selection import train_test_split\n",
    "from sklearn.metrics import r2_score\n",
    "from sklearn.ensemble import RandomForestRegressor\n",
    "from sklearn.kernel_ridge import KernelRidge\n",
    "from sklearn.linear_model import Ridge\n",
    "from sklearn.preprocessing import PolynomialFeatures\n",
    "from sklearn.gaussian_process.kernels import ExpSineSquared\n",
    "from sklearn.gaussian_process import GaussianProcessRegressor\n",
    "from sklearn.gaussian_process.kernels import RBF, ConstantKernel as C\n",
    "from scipy.optimize import leastsq, curve_fit\n",
    "from sklearn.preprocessing import MinMaxScaler"
   ]
  },
  {
   "cell_type": "code",
   "execution_count": 372,
   "metadata": {},
   "outputs": [],
   "source": [
    "pd.set_option('display.max_rows', 200)\n",
    "pd.set_option('display.max_columns', 200)"
   ]
  },
  {
   "cell_type": "code",
   "execution_count": 3,
   "metadata": {},
   "outputs": [],
   "source": [
    "dfdeb = pickle.load(open('dfdeb_fc.p', 'rb'))\n",
    "dfdeb_m = pickle.load(open('dfdeb_m_fc.p', 'rb'))"
   ]
  },
  {
   "cell_type": "code",
   "execution_count": 4,
   "metadata": {},
   "outputs": [],
   "source": [
    "def xyz_model(line1, line2, date):\n",
    "    satellite = twoline2rv(line1, line2, wgs72)\n",
    " #   pass\n",
    "    #position, velocity = satellite.propagate(\n",
    "    #2000, 6, 29, 12, 50, 19) # year month day hour min sec\n",
    "    position, velocity = satellite.propagate(\n",
    "    date.year, date.month, date.day, date.hour, date.minute, date.second) # year month day hour min sec\n",
    "    return position"
   ]
  },
  {
   "cell_type": "code",
   "execution_count": 5,
   "metadata": {},
   "outputs": [],
   "source": [
    "def coordcalt(line1, line2, date):\n",
    "    xcon = list()\n",
    "    ycon = list()\n",
    "    zcon = list()\n",
    "    for i in range(len(line1)):\n",
    "        xyz = xyz_model(line1[i], line2[i], datetest)\n",
    "        xcon.append(xyz[0])\n",
    "        ycon.append(xyz[1])\n",
    "        zcon.append(xyz[2])\n",
    "    return xcon, ycon, zcon"
   ]
  },
  {
   "cell_type": "code",
   "execution_count": 6,
   "metadata": {},
   "outputs": [],
   "source": [
    "def calorbitxyz(inc, n, raan, ecc, npoints = 100):\n",
    "    #raan = np.pi / 180\n",
    "    #inc = np.pi / 180\n",
    "    x = list()\n",
    "    y = list()\n",
    "    z = list()\n",
    "    mu = 3.986004418E5 * (3600 * 24) ** 2\n",
    "    earthreq = 6378\n",
    "    apo = np.power(mu / (4. * (np.pi * n) ** 2), 1. / 3.)\n",
    "    peri = apo * (1 - ecc)\n",
    "    a = (apo + peri) / 2\n",
    "    oecc = np.sqrt(1 - ecc ** 2)\n",
    "    b = a * oecc\n",
    "    b2 = b * b\n",
    "    a2 = a * a\n",
    "    xp = np.linspace(-a, a, npoints) \n",
    "    raan_cos = np.cos(raan)\n",
    "    raan_sin = np.sin(raan)\n",
    "    inc_cos = np.cos(inc)\n",
    "    inc_sin = np.sin(inc)\n",
    "    #print(xp)\n",
    "    for i in xp:\n",
    "        x.append(i)\n",
    "        x.append(i)\n",
    "        yabs = np.sqrt(b2 - i * i * b2 / a2)\n",
    "        y.append(yabs)\n",
    "        y.append(-yabs)\n",
    "    x = np.array(x)\n",
    "    y = np.array(y)\n",
    "    xn = x * raan_cos - y * raan_sin\n",
    "    yn = y * raan_cos + x * raan_sin\n",
    "    z = xn * np.sin(inc)\n",
    "    xn *= np.cos(inc)\n",
    "    x = xn * raan_cos + yn * raan_sin\n",
    "    y = yn * raan_cos - xn * raan_sin\n",
    "    return x, y, z"
   ]
  },
  {
   "cell_type": "code",
   "execution_count": 7,
   "metadata": {},
   "outputs": [],
   "source": [
    "mu = 3.986004418E5 * (3600 * 24) ** 2\n",
    "earthreq = 6378\n",
    "def apogeecal(n, ecc):\n",
    "    return np.power(mu / (4. * (np.pi * n) ** 2), 1. / 3.) * (1 + ecc)\n",
    "def perigeecal(n, ecc):\n",
    "    return np.power(mu / (4. * (np.pi * n) ** 2), 1. / 3.) * (1 - ecc)"
   ]
  },
  {
   "cell_type": "code",
   "execution_count": 8,
   "metadata": {},
   "outputs": [],
   "source": [
    "norads = dfdeb.norad.unique()"
   ]
  },
  {
   "cell_type": "code",
   "execution_count": 9,
   "metadata": {},
   "outputs": [
    {
     "data": {
      "text/plain": [
       "495"
      ]
     },
     "execution_count": 9,
     "metadata": {},
     "output_type": "execute_result"
    }
   ],
   "source": [
    "len(dfdeb_m.loc[norads[0]].line1)"
   ]
  },
  {
   "cell_type": "code",
   "execution_count": 327,
   "metadata": {},
   "outputs": [],
   "source": [
    "kernel = ExpSineSquared(length_scale = 10, periodicity = 0.1, length_scale_bounds = (1E-3, 1E3),\n",
    "                        periodicity_bounds = (1E-5, 1E2))\n",
    "#C(1.0, (1e-1, 1e1)) * RBF(10, (1e-1, 1e1)) #prior kernel = 'linear'\n",
    "krreg = KernelRidge(alpha=0.00000001, kernel=kernel, gamma='linear', degree=5, coef0=1, kernel_params=None)\n",
    "#krreg = Ridge(alpha=0.001, fit_intercept=True, normalize=False, copy_X=True, max_iter=None, tol=0.001, solver='auto', random_state=None)\n",
    "#krreg = LinearRegression(fit_intercept=True, normalize=False, copy_X=True, n_jobs=None)\n",
    "#krreg = KernelRidge(alpha=0.01, kernel='linear', gamma='linear', degree=5, coef0=1, kernel_params=None)\n",
    "#DecisionTreeRegressor(criterion = 'mae', max_depth = 4, min_samples_split = 2, min_samples_leaf = 1)"
   ]
  },
  {
   "cell_type": "code",
   "execution_count": 328,
   "metadata": {},
   "outputs": [
    {
     "data": {
      "text/html": [
       "<div>\n",
       "<style scoped>\n",
       "    .dataframe tbody tr th:only-of-type {\n",
       "        vertical-align: middle;\n",
       "    }\n",
       "\n",
       "    .dataframe tbody tr th {\n",
       "        vertical-align: top;\n",
       "    }\n",
       "\n",
       "    .dataframe thead th {\n",
       "        text-align: right;\n",
       "    }\n",
       "</style>\n",
       "<table border=\"1\" class=\"dataframe\">\n",
       "  <thead>\n",
       "    <tr style=\"text-align: right;\">\n",
       "      <th></th>\n",
       "      <th></th>\n",
       "      <th>bstar</th>\n",
       "      <th>dn_o2</th>\n",
       "      <th>ecc</th>\n",
       "      <th>inc</th>\n",
       "      <th>n</th>\n",
       "      <th>raan</th>\n",
       "      <th>datetimes</th>\n",
       "      <th>x</th>\n",
       "      <th>y</th>\n",
       "      <th>z</th>\n",
       "    </tr>\n",
       "    <tr>\n",
       "      <th>norad</th>\n",
       "      <th>date</th>\n",
       "      <th></th>\n",
       "      <th></th>\n",
       "      <th></th>\n",
       "      <th></th>\n",
       "      <th></th>\n",
       "      <th></th>\n",
       "      <th></th>\n",
       "      <th></th>\n",
       "      <th></th>\n",
       "      <th></th>\n",
       "    </tr>\n",
       "  </thead>\n",
       "  <tbody>\n",
       "    <tr>\n",
       "      <th rowspan=\"5\" valign=\"top\">119</th>\n",
       "      <th>2018.916314</th>\n",
       "      <td>0.000116</td>\n",
       "      <td>0.000002</td>\n",
       "      <td>0.009762</td>\n",
       "      <td>66.7291</td>\n",
       "      <td>14.231530</td>\n",
       "      <td>321.6569</td>\n",
       "      <td>2018-12-02 08:54:00.447264</td>\n",
       "      <td>1193.468954</td>\n",
       "      <td>5280.337957</td>\n",
       "      <td>-4805.947471</td>\n",
       "    </tr>\n",
       "    <tr>\n",
       "      <th>2018.918618</th>\n",
       "      <td>0.000132</td>\n",
       "      <td>0.000002</td>\n",
       "      <td>0.009762</td>\n",
       "      <td>66.7292</td>\n",
       "      <td>14.231535</td>\n",
       "      <td>319.4778</td>\n",
       "      <td>2018-12-03 05:08:23.052480</td>\n",
       "      <td>273.176198</td>\n",
       "      <td>6514.606535</td>\n",
       "      <td>-3177.855333</td>\n",
       "    </tr>\n",
       "    <tr>\n",
       "      <th>2018.920538</th>\n",
       "      <td>0.000139</td>\n",
       "      <td>0.000002</td>\n",
       "      <td>0.009764</td>\n",
       "      <td>66.7292</td>\n",
       "      <td>14.231539</td>\n",
       "      <td>317.6620</td>\n",
       "      <td>2018-12-03 22:00:21.864672</td>\n",
       "      <td>-136.651913</td>\n",
       "      <td>6858.366053</td>\n",
       "      <td>-2371.102905</td>\n",
       "    </tr>\n",
       "    <tr>\n",
       "      <th>2018.921690</th>\n",
       "      <td>0.000145</td>\n",
       "      <td>0.000003</td>\n",
       "      <td>0.009765</td>\n",
       "      <td>66.7292</td>\n",
       "      <td>14.231542</td>\n",
       "      <td>316.5724</td>\n",
       "      <td>2018-12-04 08:07:33.134016</td>\n",
       "      <td>-530.784596</td>\n",
       "      <td>7073.827005</td>\n",
       "      <td>-1549.948503</td>\n",
       "    </tr>\n",
       "    <tr>\n",
       "      <th>2018.924762</th>\n",
       "      <td>0.000146</td>\n",
       "      <td>0.000003</td>\n",
       "      <td>0.009766</td>\n",
       "      <td>66.7293</td>\n",
       "      <td>14.231550</td>\n",
       "      <td>313.6672</td>\n",
       "      <td>2018-12-05 11:06:43.134336</td>\n",
       "      <td>-550.232623</td>\n",
       "      <td>7081.356831</td>\n",
       "      <td>-1509.005731</td>\n",
       "    </tr>\n",
       "  </tbody>\n",
       "</table>\n",
       "</div>"
      ],
      "text/plain": [
       "                      bstar     dn_o2       ecc      inc          n      raan  \\\n",
       "norad date                                                                      \n",
       "119   2018.916314  0.000116  0.000002  0.009762  66.7291  14.231530  321.6569   \n",
       "      2018.918618  0.000132  0.000002  0.009762  66.7292  14.231535  319.4778   \n",
       "      2018.920538  0.000139  0.000002  0.009764  66.7292  14.231539  317.6620   \n",
       "      2018.921690  0.000145  0.000003  0.009765  66.7292  14.231542  316.5724   \n",
       "      2018.924762  0.000146  0.000003  0.009766  66.7293  14.231550  313.6672   \n",
       "\n",
       "                                    datetimes            x            y  \\\n",
       "norad date                                                                \n",
       "119   2018.916314  2018-12-02 08:54:00.447264  1193.468954  5280.337957   \n",
       "      2018.918618  2018-12-03 05:08:23.052480   273.176198  6514.606535   \n",
       "      2018.920538  2018-12-03 22:00:21.864672  -136.651913  6858.366053   \n",
       "      2018.921690  2018-12-04 08:07:33.134016  -530.784596  7073.827005   \n",
       "      2018.924762  2018-12-05 11:06:43.134336  -550.232623  7081.356831   \n",
       "\n",
       "                             z  \n",
       "norad date                      \n",
       "119   2018.916314 -4805.947471  \n",
       "      2018.918618 -3177.855333  \n",
       "      2018.920538 -2371.102905  \n",
       "      2018.921690 -1549.948503  \n",
       "      2018.924762 -1509.005731  "
      ]
     },
     "execution_count": 328,
     "metadata": {},
     "output_type": "execute_result"
    }
   ],
   "source": [
    "dfdebreg = dfdeb_m.drop(['line1', 'line2', 'object_id', 'object_name', 'rcs_size', 'debc',\n",
    "                        'apo', 'peri', 'country', 'rev_num', 'int_desig', 'ddn_o6', 'm', 'argp', \n",
    "                         'epoch_day', 'epoch_year', 'period', 'apogee', 'perigee', 'inclination',\n",
    "                        'launch'],axis = 1)\n",
    "dfdebreg.head()"
   ]
  },
  {
   "cell_type": "code",
   "execution_count": 358,
   "metadata": {},
   "outputs": [],
   "source": [
    "oi_num = 0#1#235#135#37"
   ]
  },
  {
   "cell_type": "code",
   "execution_count": 359,
   "metadata": {},
   "outputs": [
    {
     "data": {
      "text/plain": [
       "<matplotlib.collections.PathCollection at 0x1a759f5390>"
      ]
     },
     "execution_count": 359,
     "metadata": {},
     "output_type": "execute_result"
    },
    {
     "data": {
      "image/png": "[encoded data removed]",
      "text/plain": [
       "<Figure size 1080x1080 with 1 Axes>"
      ]
     },
     "metadata": {
      "needs_background": "light"
     },
     "output_type": "display_data"
    }
   ],
   "source": [
    "X = dfdebreg.loc[norads[oi_num]].datetimes.apply(lambda x: x.timestamp()).values\n",
    "\n",
    "X = ppimport.normalize(X.reshape(-1, 1), norm='max', axis=0, copy=True, return_norm=False)\n",
    "\n",
    "\n",
    "X_train, X_test, y_train, y_test = train_test_split(X, dfdebreg.loc[norads[oi_num]].n.values,\n",
    "                                                    test_size=0.33, random_state=42)\n",
    "#degree = 1\n",
    "#poly_features = PolynomialFeatures(degree=degree)\n",
    "#X_trainp = poly_features.fit_transform(X_train)\n",
    "#X_testp = poly_features.fit_transform(X_test)\n",
    "X_trainp = X_train\n",
    "X_testp = X_test\n",
    "X_testb = np.linspace(0.975,1.005,200).reshape(-1,1)\n",
    "krreg.fit(X_trainp, y_train)\n",
    "\n",
    "y_pred = krreg.predict(X_testb)\n",
    "\n",
    "#print(r2_score(y_test, y_pred))\n",
    "\n",
    "ax = plt.figure(figsize = (15,15))\n",
    "plt.xlim(0.97,1.01)\n",
    "plt.ylim(np.min(y_pred),np.max(y_pred))\n",
    "#plt.ylim(np.min(y_test-y_pred),np.max(y_test-y_pred))\n",
    "#plt.scatter(X_test, y_test-y_pred, c = 'red')\n",
    "plt.scatter(X_testb, y_pred, c = 'blue')\n",
    "plt.scatter(X_test, y_test, c = 'red')"
   ]
  },
  {
   "cell_type": "code",
   "execution_count": 360,
   "metadata": {},
   "outputs": [
    {
     "name": "stdout",
     "output_type": "stream",
     "text": [
      "0.9998696198266772\n"
     ]
    },
    {
     "data": {
      "text/plain": [
       "<matplotlib.collections.PathCollection at 0x1a75b39e10>"
      ]
     },
     "execution_count": 360,
     "metadata": {},
     "output_type": "execute_result"
    },
    {
     "data": {
      "image/png": "[encoded data removed]",
      "text/plain": [
       "<Figure size 1080x1080 with 1 Axes>"
      ]
     },
     "metadata": {
      "needs_background": "light"
     },
     "output_type": "display_data"
    }
   ],
   "source": [
    "X = dfdebreg.loc[norads[oi_num]].datetimes.apply(lambda x: x.timestamp()).values\n",
    "\n",
    "X = ppimport.normalize(X.reshape(-1, 1), norm='max', axis=0, copy=True, return_norm=False)\n",
    "\n",
    "X_train, X_test, y_train, y_test = train_test_split(X.reshape(-1, 1), dfdebreg.loc[norads[oi_num]].ecc.values,\n",
    "                                                    test_size=0.33, random_state=42)\n",
    "\n",
    "degree = 3\n",
    "poly_features = PolynomialFeatures(degree=degree)\n",
    "X_trainp = poly_features.fit_transform(X_train)\n",
    "X_testp = poly_features.fit_transform(X_test)\n",
    "krreg.fit(X_trainp, y_train)\n",
    "\n",
    "y_pred = krreg.predict(X_testp)\n",
    "\n",
    "print(r2_score(y_test, y_pred))\n",
    "\n",
    "ax = plt.figure(figsize = (15,15))\n",
    "plt.xlim(0.98,1)\n",
    "plt.ylim(np.min(y_test),np.max(y_test))\n",
    "plt.scatter(X_test, y_test, c = 'red')\n",
    "plt.scatter(X_test, y_pred, c = 'blue')\n",
    "# better oscillatory interpolation"
   ]
  },
  {
   "cell_type": "code",
   "execution_count": 361,
   "metadata": {},
   "outputs": [
    {
     "name": "stdout",
     "output_type": "stream",
     "text": [
      "0.031062104834763127\n"
     ]
    },
    {
     "data": {
      "text/plain": [
       "<matplotlib.collections.PathCollection at 0x1a75ce5588>"
      ]
     },
     "execution_count": 361,
     "metadata": {},
     "output_type": "execute_result"
    },
    {
     "data": {
      "image/png": "[encoded data removed]",
      "text/plain": [
       "<Figure size 1080x1080 with 1 Axes>"
      ]
     },
     "metadata": {
      "needs_background": "light"
     },
     "output_type": "display_data"
    }
   ],
   "source": [
    "#treereg = DecisionTreeRegressor(criterion = 'mae', max_depth = 8, min_samples_split = 2, min_samples_leaf = 1)\n",
    "X = dfdebreg.loc[norads[oi_num]].datetimes.apply(lambda x: x.timestamp()).values\n",
    "\n",
    "X = ppimport.normalize(X.reshape(-1, 1), norm='max', axis=0, copy=True, return_norm=False)\n",
    "\n",
    "X_train, X_test, y_train, y_test = train_test_split(X.reshape(-1, 1), dfdebreg.loc[norads[oi_num]].inc.values,\n",
    "                                                    test_size=0.33, random_state=42)\n",
    "\n",
    "degree = 1\n",
    "poly_features = PolynomialFeatures(degree=degree)\n",
    "X_trainp = poly_features.fit_transform(X_train)\n",
    "X_testp = poly_features.fit_transform(X_test)\n",
    "krreg.fit(X_trainp, y_train)\n",
    "\n",
    "y_pred = krreg.predict(X_testp)\n",
    "\n",
    "print(r2_score(y_test, y_pred))\n",
    "\n",
    "ax = plt.figure(figsize = (15,15))\n",
    "plt.xlim(0.98,1)\n",
    "plt.ylim(np.min(y_test),np.max(y_test))\n",
    "plt.scatter(X_test, y_test, c = 'red')\n",
    "plt.scatter(X_test, y_pred, c = 'blue')\n",
    "# better fourier series interpolation"
   ]
  },
  {
   "cell_type": "code",
   "execution_count": 451,
   "metadata": {},
   "outputs": [
    {
     "name": "stdout",
     "output_type": "stream",
     "text": [
      "doing 189 [0.98593331] [0.34268791]\n",
      "doing 372 [0.98793536] [0.72713867]\n",
      "[ 0.89131004 -2.62272802]\n",
      "[ 0.89131004 -2.62272802]\n"
     ]
    },
    {
     "data": {
      "text/plain": [
       "[[array([0.33998048]), array([0.34268791]), 1],\n",
       " [array([0.72481806]), array([0.72713867]), 1]]"
      ]
     },
     "execution_count": 451,
     "metadata": {},
     "output_type": "execute_result"
    },
    {
     "data": {
      "image/png": "[encoded data removed]",
      "text/plain": [
       "<Figure size 1080x1080 with 1 Axes>"
      ]
     },
     "metadata": {
      "needs_background": "light"
     },
     "output_type": "display_data"
    }
   ],
   "source": [
    "#curve_fit fit of function\n",
    "\n",
    "## perform curve_fit for raan\n",
    "fitfunc = lambda x, p0, p1: (p0 + p1 * x) % 1\n",
    "# sortby datetime\n",
    "dfsub = dfdebreg.loc[norads[oi_num]].sort_values('datetimes')\n",
    "X = dfdebreg.loc[norads[oi_num]].datetimes.apply(lambda x: x.timestamp()).values\n",
    "X = dfsub.datetimes.apply(lambda x: x.timestamp()).values\n",
    "\n",
    "minmaxang = MinMaxScaler()\n",
    "minmaxt = MinMaxScaler()\n",
    "\n",
    "#X = ppimport.normalize(X.reshape(-1, 1), norm='max', axis=0, copy=True, return_norm=False)\n",
    "y = dfdebreg.loc[norads[oi_num]].raan.values\n",
    "y = dfsub.raan.values\n",
    "\n",
    "minmaxt.fit(X.reshape(-1, 1))\n",
    "minmaxang.fit(np.array([0,360]).reshape(-1, 1))\n",
    "\n",
    "y = minmaxang.transform(y.reshape(-1, 1))\n",
    "X = minmaxt.transform(X.reshape(-1, 1))\n",
    "\n",
    "# now split different regions according to distance\n",
    "boundt = 0.5 ** 2\n",
    "regions = list()#np.empty(shape = [9,2])#array()#(2,1)\n",
    "#print(regions.shape)\n",
    "sign = 1\n",
    "for i, x in enumerate(X): # problem X is not ordered\n",
    "    if(i > 0):\n",
    "        dx = X[i] - X[i - 1]\n",
    "        dy = y[i] - y[i - 1]\n",
    "        dist = (dx ** 2 + dy ** 2)\n",
    "        if dist > boundt: # do something\n",
    "            print('doing', i, dist, X[i])\n",
    "            #regions[i] = [X[i - 1], X[i]]\n",
    "            #np.append(regions, [X[i - 1], X[i]], axis = 0)\n",
    "            regions.append([X[i - 1], X[i], sign])\n",
    "        elif(dx <= 0):\n",
    "            sign = -1\n",
    "        else: sign = 1    \n",
    "\n",
    "\n",
    "\n",
    "X_train, X_test, y_train, y_test = train_test_split(X.reshape(-1, 1), y,\n",
    "                                                    test_size=0.33, random_state=42)\n",
    "init = [1,-3]\n",
    "out2, cov_x2 = curve_fit(fitfunc, xdata = X_train.flatten(), ydata = y_train.flatten(), p0 = init)\n",
    "print(out2)\n",
    "\n",
    "degree = 1\n",
    "poly_features = PolynomialFeatures(degree=degree)\n",
    "X_trainp = poly_features.fit_transform(X_train)\n",
    "X_testp = poly_features.fit_transform(X_test)\n",
    "krreg.fit(X_trainp[:,1].reshape(-1,1), y_train)\n",
    "\n",
    "#y_pred = krreg.predict(X_testp)\n",
    "print(out2)\n",
    "y_pred = fitfunc(X_testp, out2[0], out2[1])\n",
    "\n",
    "#print(r2_score(y_test, y_pred))\n",
    "\n",
    "ax = plt.figure(figsize = (15,15))\n",
    "plt.xlim(0.,1.)\n",
    "plt.ylim(np.min(y_test),np.max(y_test))\n",
    "plt.ylim(0,1)\n",
    "plt.scatter(X_test, y_test.flatten(), c = 'red')\n",
    "plt.scatter(X_testp[:, 1], y_pred[:, 1], c = 'blue')\n",
    "#better  \n",
    "#y_train\n",
    "#X_testp\n",
    "#X_testp[:, 1]\n",
    "#y_pred[:,1]\n",
    "regions"
   ]
  },
  {
   "cell_type": "code",
   "execution_count": 363,
   "metadata": {},
   "outputs": [],
   "source": [
    "# Zyklizität in raan, meaning inclined plane changes with time, muss berücksichtigt werden, nicht geosynchrone Orbits\n",
    "# implement linear regression with modulo 360"
   ]
  },
  {
   "cell_type": "code",
   "execution_count": 364,
   "metadata": {},
   "outputs": [],
   "source": [
    "#can work quite well, but highly unstable method; better take periodicity into account"
   ]
  },
  {
   "cell_type": "code",
   "execution_count": 374,
   "metadata": {},
   "outputs": [
    {
     "name": "stdout",
     "output_type": "stream",
     "text": [
      "[   -72.29459126 -42570.01455453]\n",
      "[   -72.29459126 -42570.01455453]\n",
      "(164,)\n"
     ]
    },
    {
     "data": {
      "text/plain": [
       "<matplotlib.collections.PathCollection at 0x1a769cf128>"
      ]
     },
     "execution_count": 374,
     "metadata": {},
     "output_type": "execute_result"
    },
    {
     "data": {
      "image/png": "[encoded data removed]",
      "text/plain": [
       "<Figure size 1080x1080 with 1 Axes>"
      ]
     },
     "metadata": {
      "needs_background": "light"
     },
     "output_type": "display_data"
    }
   ],
   "source": [
    "#treereg = DecisionTreeRegressor(criterion = 'mae', max_depth = 8, min_samples_split = 2, min_samples_leaf = 1)\n",
    "\n",
    "## perform curve_fit for raan\n",
    "fitfunc = lambda x, p0, p1: (p0 + p1 * x) % 360\n",
    "\n",
    "X = dfdebreg.loc[norads[oi_num]].datetimes.apply(lambda x: x.timestamp()).values\n",
    "\n",
    "X = ppimport.normalize(X.reshape(-1, 1), norm='max', axis=0, copy=True, return_norm=False)\n",
    "\n",
    "y = dfdebreg.loc[norads[oi_num]].raan.values\n",
    "\n",
    "boundt = 180\n",
    "# need to decide on plus or minus and on multitude?\n",
    "for idx in range(1, len(y) - 1):\n",
    "    if abs(y[idx] - y[idx + 1]) > boundt:  \n",
    "        pass\n",
    "X_train, X_test, y_train, y_test = train_test_split(X.reshape(-1, 1), y, test_size=0.33, random_state=42)\n",
    "init = [360,-43000]\n",
    "out2, cov_x2 = curve_fit(fitfunc, xdata = X_train.flatten(), ydata = y_train, p0 = init)\n",
    "print(out2)\n",
    "\n",
    "degree = 1\n",
    "poly_features = PolynomialFeatures(degree=degree)\n",
    "X_trainp = poly_features.fit_transform(X_train)\n",
    "X_testp = poly_features.fit_transform(X_test)\n",
    "krreg.fit(X_trainp, y_train)\n",
    "\n",
    "#y_pred = krreg.predict(X_testp)\n",
    "print(out2)\n",
    "y_pred = fitfunc(X_testp, out2[0], out2[1])\n",
    "y_pred = y_pred[:,1]\n",
    "#print(y_pred[:,1].shape)\n",
    "print(y_test.shape)\n",
    "#print(y_pred[:,1].shape)\n",
    "#print(r2_score(y_test, y_pred))\n",
    "\n",
    "ax = plt.figure(figsize = (15,15))\n",
    "plt.xlim(0.98,1.)\n",
    "plt.ylim(np.min(y_test),np.max(y_test))\n",
    "plt.ylim(np.min(y_pred - y_test),np.max(y_pred - y_test))\n",
    "#plt.scatter(X_test, y_test, c = 'red')\n",
    "#plt.scatter(X_testp, y_pred, c = 'blue')\n",
    "plt.scatter(X_test, y_pred - y_test, c = 'blue')\n",
    "#better  "
   ]
  },
  {
   "cell_type": "code",
   "execution_count": 340,
   "metadata": {},
   "outputs": [
    {
     "data": {
      "text/plain": [
       "array([[139.96856392, 302.54720187],\n",
       "       [139.96856392,  76.50519344],\n",
       "       [139.96856392, 253.46753099],\n",
       "       [139.96856392, 308.17751338],\n",
       "       [139.96856392, 232.70058464],\n",
       "       [139.96856392,  98.73818201],\n",
       "       [139.96856392,  43.71626443],\n",
       "       [139.96856392, 217.96848984],\n",
       "       [139.96856392, 214.15812059],\n",
       "       [139.96856392, 261.72484466],\n",
       "       [139.96856392, 294.02773757],\n",
       "       [139.96856392, 224.89079761],\n",
       "       [139.96856392, 162.27974243],\n",
       "       [139.96856392, 199.37530456],\n",
       "       [139.96856392, 355.6165145 ],\n",
       "       [139.96856392,  96.20706746],\n",
       "       [139.96856392, 143.95310816],\n",
       "       [139.96856392, 313.63842791],\n",
       "       [139.96856392, 222.40586653],\n",
       "       [139.96856392, 255.33527253],\n",
       "       [139.96856392,  65.01506419],\n",
       "       [139.96856392,  86.62236805],\n",
       "       [139.96856392, 319.85076295],\n",
       "       [139.96856392,  90.57363471],\n",
       "       [139.96856392, 251.78551323],\n",
       "       [139.96856392,  81.65252577],\n",
       "       [139.96856392, 150.26278877],\n",
       "       [139.96856392, 338.04504358],\n",
       "       [139.96856392, 210.69119002],\n",
       "       [139.96856392,  41.23140661],\n",
       "       [139.96856392, 127.80109542],\n",
       "       [139.96856392, 153.58270827],\n",
       "       [139.96856392, 261.67469687],\n",
       "       [139.96856392, 228.26320468],\n",
       "       [139.96856392, 159.31460699],\n",
       "       [139.96856392, 320.65108268],\n",
       "       [139.96856392, 283.99671706],\n",
       "       [139.96856392,   7.99256172],\n",
       "       [139.96856392, 189.48738531],\n",
       "       [139.96856392, 212.46614134],\n",
       "       [139.96856392, 146.89054287],\n",
       "       [139.96856392,  25.38692595],\n",
       "       [139.96856392, 191.97220442],\n",
       "       [139.96856392, 101.17691069],\n",
       "       [139.96856392, 326.41809441],\n",
       "       [139.96856392, 243.74808073],\n",
       "       [139.96856392, 281.60353585],\n",
       "       [139.96856392,  44.78120354],\n",
       "       [139.96856392, 121.58878298],\n",
       "       [139.96856392, 266.28947474],\n",
       "       [139.96856392, 108.67763118],\n",
       "       [139.96856392,  67.63048708],\n",
       "       [139.96856392, 133.65841701],\n",
       "       [139.96856392, 317.63376536],\n",
       "       [139.96856392, 126.07168776],\n",
       "       [139.96856392, 317.93957761],\n",
       "       [139.96856392,  44.37876484],\n",
       "       [139.96856392, 131.39639685],\n",
       "       [139.96856392, 120.87880426],\n",
       "       [139.96856392, 332.18789281],\n",
       "       [139.96856392, 188.54836726],\n",
       "       [139.96856392, 323.44184041],\n",
       "       [139.96856392, 171.15427153],\n",
       "       [139.96856392, 214.95107315],\n",
       "       [139.96856392, 306.22510161],\n",
       "       [139.96856392, 162.68685454],\n",
       "       [139.96856392, 311.42164726],\n",
       "       [139.96856392, 165.42997787],\n",
       "       [139.96856392, 229.86066116],\n",
       "       [139.96856392,  42.78132028],\n",
       "       [139.96856392, 214.51309548],\n",
       "       [139.96856392, 220.98590596],\n",
       "       [139.96856392, 314.88089468],\n",
       "       [139.96856392, 181.04952841],\n",
       "       [139.96856392, 294.15564955],\n",
       "       [139.96856392,  62.66065153],\n",
       "       [139.96856392, 193.47417228],\n",
       "       [139.96856392, 267.5319152 ],\n",
       "       [139.96856392, 208.02876298],\n",
       "       [139.96856392, 215.30606335],\n",
       "       [139.96856392, 113.64736052],\n",
       "       [139.96856392, 256.17246562],\n",
       "       [139.96856392, 211.67329726],\n",
       "       [139.96856392, 224.71330257],\n",
       "       [139.96856392,  69.45231283],\n",
       "       [139.96856392, 206.70364985],\n",
       "       [139.96856392, 272.50167726],\n",
       "       [139.96856392, 351.48568895],\n",
       "       [139.96856392, 190.85574658],\n",
       "       [139.96856392,  39.4089377 ],\n",
       "       [139.96856392, 227.37572904],\n",
       "       [139.96856392, 290.78330503],\n",
       "       [139.96856392,   6.75010839],\n",
       "       [139.96856392, 304.09519805],\n",
       "       [139.96856392, 235.18551846],\n",
       "       [139.96856392, 303.91770608],\n",
       "       [139.96856392, 242.64032182],\n",
       "       [139.96856392, 338.17372682],\n",
       "       [139.96856392, 345.67709139],\n",
       "       [139.96856392, 188.50431549],\n",
       "       [139.96856392, 209.62621914],\n",
       "       [139.96856392, 339.06119017],\n",
       "       [139.96856392, 107.79017986],\n",
       "       [139.96856392, 280.62430874],\n",
       "       [139.96856392, 144.40572965],\n",
       "       [139.96856392, 141.46818159],\n",
       "       [139.96856392, 329.08052748],\n",
       "       [139.96856392, 312.39596138],\n",
       "       [139.96856392,  91.28359564],\n",
       "       [139.96856392, 294.64643163],\n",
       "       [139.96856392, 332.54287169],\n",
       "       [139.96856392, 303.20773804],\n",
       "       [139.96856392,   9.76749503],\n",
       "       [139.96856392, 208.20625812],\n",
       "       [139.96856392, 221.56168233],\n",
       "       [139.96856392, 216.05946178],\n",
       "       [139.96856392, 355.03555155],\n",
       "       [139.96856392, 115.4222644 ],\n",
       "       [139.96856392, 326.15325245],\n",
       "       [139.96856392,  47.75114854],\n",
       "       [139.96856392, 300.14878721],\n",
       "       [139.96856392, 320.6019618 ],\n",
       "       [139.96856392, 171.73868438],\n",
       "       [139.96856392, 266.51702751],\n",
       "       [139.96856392,  61.95067494],\n",
       "       [139.96856392, 304.58617041],\n",
       "       [139.96856392, 152.51776495],\n",
       "       [139.96856392, 272.45952726],\n",
       "       [139.96856392, 255.06498769],\n",
       "       [139.96856392,  35.32657992],\n",
       "       [139.96856392, 263.22976912],\n",
       "       [139.96856392, 205.36633624],\n",
       "       [139.96856392,  15.44728339],\n",
       "       [139.96856392, 199.60415478],\n",
       "       [139.96856392, 359.34380034],\n",
       "       [139.96856392, 139.96856392],\n",
       "       [139.96856392,  16.38281797],\n",
       "       [139.96856392,  96.43081042],\n",
       "       [139.96856392, 285.81353853],\n",
       "       [139.96856392, 179.67382901],\n",
       "       [139.96856392, 231.55190026],\n",
       "       [139.96856392, 158.55244235],\n",
       "       [139.96856392, 308.88748139],\n",
       "       [139.96856392,  36.26169106],\n",
       "       [139.96856392, 233.41056562],\n",
       "       [139.96856392, 348.11332208],\n",
       "       [139.96856392, 106.14675414],\n",
       "       [139.96856392, 116.61893249],\n",
       "       [139.96856392,  31.06672796],\n",
       "       [139.96856392, 114.48899695],\n",
       "       [139.96856392, 154.95778717],\n",
       "       [139.96856392,  47.44355204],\n",
       "       [139.96856392,  79.56924271],\n",
       "       [139.96856392, 235.63411985],\n",
       "       [139.96856392, 153.63503465],\n",
       "       [139.96856392,  83.82900653],\n",
       "       [139.96856392, 187.00256689],\n",
       "       [139.96856392, 224.09741795],\n",
       "       [139.96856392, 291.54289506],\n",
       "       [139.96856392,   1.82865739],\n",
       "       [139.96856392, 125.84865452],\n",
       "       [139.96856392, 231.67867389],\n",
       "       [139.96856392,  52.41327155],\n",
       "       [139.96856392, 228.35712091],\n",
       "       [139.96856392, 299.61630125],\n",
       "       [139.96856392, 246.81585301],\n",
       "       [139.96856392, 253.29003585],\n",
       "       [139.96856392, 209.3148019 ],\n",
       "       [139.96856392, 237.00341176],\n",
       "       [139.96856392,  71.22721227],\n",
       "       [139.96856392, 257.59239576],\n",
       "       [139.96856392, 279.24635328],\n",
       "       [139.96856392, 239.00638887],\n",
       "       [139.96856392,  33.95432261],\n",
       "       [139.96856392, 290.20904931],\n",
       "       [139.96856392,  86.49135977],\n",
       "       [139.96856392, 219.78677259],\n",
       "       [139.96856392, 193.34061685],\n",
       "       [139.96856392, 267.4896574 ],\n",
       "       [139.96856392, 123.58682297],\n",
       "       [139.96856392, 264.03219168],\n",
       "       [139.96856392, 281.02126771],\n",
       "       [139.96856392,  61.11028411],\n",
       "       [139.96856392,  73.88956169]])"
      ]
     },
     "execution_count": 340,
     "metadata": {},
     "output_type": "execute_result"
    }
   ],
   "source": [
    "y_pred"
   ]
  },
  {
   "cell_type": "code",
   "execution_count": 341,
   "metadata": {},
   "outputs": [
    {
     "data": {
      "text/plain": [
       "array([302.5495,  76.5042, 253.4673, 308.1778, 232.7006,  98.7415,\n",
       "        43.7172, 217.9684, 214.1556, 261.7234, 294.0293, 224.891 ,\n",
       "       162.2809, 199.3766, 355.6176,  96.2079, 143.9543, 313.6368,\n",
       "       222.4059, 255.3334,  65.0172,  86.6224, 319.8494,  90.5768,\n",
       "       251.7834,  81.652 , 150.2582, 338.0475, 210.6909,  41.2322,\n",
       "       127.8028, 153.5838, 261.6733, 228.2634, 159.3109, 320.6539,\n",
       "       283.9951,   7.993 , 189.4853, 212.4659, 146.8855,  25.3861,\n",
       "       191.9702, 101.1781, 326.417 , 243.7476, 281.6041,  44.7822,\n",
       "       121.5905, 266.2881, 108.6806,  67.6289, 133.66  , 317.6367,\n",
       "       126.0738, 317.9404,  44.3767, 131.3983, 120.8806, 332.1904,\n",
       "       188.5497, 323.4431, 171.1554, 214.951 , 306.2253, 162.6835,\n",
       "       311.4246, 165.4301, 229.8608,  42.7793, 214.5106, 220.986 ,\n",
       "       314.8793, 181.049 , 294.1551,  62.6589, 193.4736, 267.5307,\n",
       "       208.0284, 215.306 , 113.65  , 256.1712, 211.6708, 224.7135,\n",
       "        69.4547, 206.7014, 272.5004, 351.4872, 190.8571,  39.4071,\n",
       "       227.3759, 290.7825,   6.7506, 304.0952, 235.1855, 303.9177,\n",
       "       242.6401, 338.1752, 345.6791, 188.5037, 209.6259, 339.0627,\n",
       "       107.7932, 280.6229, 144.4004, 141.4695, 329.0796, 312.3943,\n",
       "        91.2868, 294.6445, 332.5454, 303.2077,   9.7678, 208.2059,\n",
       "       221.5624, 216.0604, 355.0369, 115.4249, 326.1559,  47.7492,\n",
       "       300.1469, 320.603 , 171.736 , 266.5159,  61.9489, 304.5843,\n",
       "       152.5189, 272.4583, 255.0646,  35.3249, 263.229 , 205.3659,\n",
       "        15.4473, 199.602 , 359.3446, 139.9626,  16.3832,  96.4341,\n",
       "       285.8124, 179.6751, 231.5492, 158.5536, 308.8878,  36.2623,\n",
       "       233.4106, 348.1148, 106.1482, 116.6207,  31.0654, 114.4908,\n",
       "       154.9583,  47.4447,  79.572 , 235.6313, 153.6308,  83.832 ,\n",
       "       187.0004, 224.0948, 291.5443,   1.8293, 125.8504, 231.6788,\n",
       "        52.4146, 228.3545, 299.6144, 246.8134, 253.2898, 209.316 ,\n",
       "       237.0033,  71.2298, 257.5911, 279.245 , 239.0036,  33.9548,\n",
       "       290.2072,  86.4944, 219.7875, 193.342 , 267.4886, 123.589 ,\n",
       "       264.0309, 281.02  ,  61.112 ,  73.8923])"
      ]
     },
     "execution_count": 341,
     "metadata": {},
     "output_type": "execute_result"
    }
   ],
   "source": [
    "y_test"
   ]
  },
  {
   "cell_type": "code",
   "execution_count": null,
   "metadata": {},
   "outputs": [],
   "source": []
  }
 ],
 "metadata": {
  "kernelspec": {
   "display_name": "Python 3",
   "language": "python",
   "name": "python3"
  },
  "language_info": {
   "codemirror_mode": {
    "name": "ipython",
    "version": 3
   },
   "file_extension": ".py",
   "mimetype": "text/x-python",
   "name": "python",
   "nbconvert_exporter": "python",
   "pygments_lexer": "ipython3",
   "version": "3.7.3"
  }
 },
 "nbformat": 4,
 "nbformat_minor": 2
}
