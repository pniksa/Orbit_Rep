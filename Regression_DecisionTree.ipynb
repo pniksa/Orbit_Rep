{
 "cells": [
  {
   "cell_type": "code",
   "execution_count": 272,
   "metadata": {},
   "outputs": [],
   "source": [
    "import pandas as pd\n",
    "import numpy as np\n",
    "import pickle\n",
    "import matplotlib.pyplot as plt\n",
    "import seaborn as sns \n",
    "import bokeh.plotting as bkh\n",
    "from bokeh.io import output_notebook\n",
    "from datetime import datetime\n",
    "from datetime import timedelta\n",
    "from sgp4.earth_gravity import wgs72 #wgs84, wgs72old\n",
    "from sgp4.io import twoline2rv\n",
    "import sklearn.preprocessing as ppimport\n",
    "from bokeh.models import ColumnDataSource, DataRange1d, Plot, LinearAxis, Grid, Range1d, LabelSet, Label, LogAxis, GMapOptions\n",
    "from bokeh.io import export_svgs, output_file, show, export_png\n",
    "from bokeh.transform import dodge\n",
    "import bokeh.colors as colors\n",
    "from bokeh.colors import Color\n",
    "from bokeh.models.ranges import FactorRange\n",
    "from mpl_toolkits.mplot3d import Axes3D \n",
    "import plotly.graph_objects as go\n",
    "from sgp4.earth_gravity import wgs72 #wgs84, wgs72old\n",
    "from sgp4.io import twoline2rv\n",
    "from sklearn.tree import DecisionTreeRegressor\n",
    "from sklearn.linear_model import LinearRegression\n",
    "from sklearn.model_selection import train_test_split\n",
    "from sklearn.metrics import r2_score\n",
    "from sklearn.ensemble import RandomForestRegressor\n",
    "from sklearn.kernel_ridge import KernelRidge"
   ]
  },
  {
   "cell_type": "code",
   "execution_count": 4,
   "metadata": {},
   "outputs": [],
   "source": [
    "pd.set_option('display.max_rows', 200)\n",
    "pd.set_option('display.max_columns', 200)"
   ]
  },
  {
   "cell_type": "code",
   "execution_count": 5,
   "metadata": {},
   "outputs": [],
   "source": [
    "dfdeb = pickle.load(open('dfdeb_fc.p', 'rb'))\n",
    "dfdeb_m = pickle.load(open('dfdeb_m_fc.p', 'rb'))"
   ]
  },
  {
   "cell_type": "code",
   "execution_count": 8,
   "metadata": {},
   "outputs": [],
   "source": [
    "def xyz_model(line1, line2, date):\n",
    "    satellite = twoline2rv(line1, line2, wgs72)\n",
    " #   pass\n",
    "    #position, velocity = satellite.propagate(\n",
    "    #2000, 6, 29, 12, 50, 19) # year month day hour min sec\n",
    "    position, velocity = satellite.propagate(\n",
    "    date.year, date.month, date.day, date.hour, date.minute, date.second) # year month day hour min sec\n",
    "    return position"
   ]
  },
  {
   "cell_type": "code",
   "execution_count": 9,
   "metadata": {},
   "outputs": [],
   "source": [
    "def coordcalt(line1, line2, date):\n",
    "    xcon = list()\n",
    "    ycon = list()\n",
    "    zcon = list()\n",
    "    for i in range(len(line1)):\n",
    "        xyz = xyz_model(line1[i], line2[i], datetest)\n",
    "        xcon.append(xyz[0])\n",
    "        ycon.append(xyz[1])\n",
    "        zcon.append(xyz[2])\n",
    "    return xcon, ycon, zcon"
   ]
  },
  {
   "cell_type": "code",
   "execution_count": 10,
   "metadata": {},
   "outputs": [],
   "source": [
    "def calorbitxyz(inc, n, raan, ecc, npoints = 100):\n",
    "    #raan = np.pi / 180\n",
    "    #inc = np.pi / 180\n",
    "    x = list()\n",
    "    y = list()\n",
    "    z = list()\n",
    "    mu = 3.986004418E5 * (3600 * 24) ** 2\n",
    "    earthreq = 6378\n",
    "    apo = np.power(mu / (4. * (np.pi * n) ** 2), 1. / 3.)\n",
    "    peri = apo * (1 - ecc)\n",
    "    a = (apo + peri) / 2\n",
    "    oecc = np.sqrt(1 - ecc ** 2)\n",
    "    b = a * oecc\n",
    "    b2 = b * b\n",
    "    a2 = a * a\n",
    "    xp = np.linspace(-a, a, npoints) \n",
    "    raan_cos = np.cos(raan)\n",
    "    raan_sin = np.sin(raan)\n",
    "    inc_cos = np.cos(inc)\n",
    "    inc_sin = np.sin(inc)\n",
    "    #print(xp)\n",
    "    for i in xp:\n",
    "        x.append(i)\n",
    "        x.append(i)\n",
    "        yabs = np.sqrt(b2 - i * i * b2 / a2)\n",
    "        y.append(yabs)\n",
    "        y.append(-yabs)\n",
    "    x = np.array(x)\n",
    "    y = np.array(y)\n",
    "    xn = x * raan_cos - y * raan_sin\n",
    "    yn = y * raan_cos + x * raan_sin\n",
    "    z = xn * np.sin(inc)\n",
    "    xn *= np.cos(inc)\n",
    "    x = xn * raan_cos + yn * raan_sin\n",
    "    y = yn * raan_cos - xn * raan_sin\n",
    "    return x, y, z"
   ]
  },
  {
   "cell_type": "code",
   "execution_count": 11,
   "metadata": {},
   "outputs": [],
   "source": [
    "mu = 3.986004418E5 * (3600 * 24) ** 2\n",
    "earthreq = 6378\n",
    "def apogeecal(n, ecc):\n",
    "    return np.power(mu / (4. * (np.pi * n) ** 2), 1. / 3.) * (1 + ecc)\n",
    "def perigeecal(n, ecc):\n",
    "    return np.power(mu / (4. * (np.pi * n) ** 2), 1. / 3.) * (1 - ecc)"
   ]
  },
  {
   "cell_type": "code",
   "execution_count": 12,
   "metadata": {},
   "outputs": [],
   "source": [
    "norads = dfdeb.norad.unique()"
   ]
  },
  {
   "cell_type": "code",
   "execution_count": 13,
   "metadata": {},
   "outputs": [
    {
     "data": {
      "text/plain": [
       "495"
      ]
     },
     "execution_count": 13,
     "metadata": {},
     "output_type": "execute_result"
    }
   ],
   "source": [
    "len(dfdeb_m.loc[norads[0]].line1)"
   ]
  },
  {
   "cell_type": "code",
   "execution_count": 256,
   "metadata": {},
   "outputs": [],
   "source": [
    "treereg = DecisionTreeRegressor(criterion = 'mae', max_depth = 4, min_samples_split = 2, min_samples_leaf = 1)"
   ]
  },
  {
   "cell_type": "code",
   "execution_count": 257,
   "metadata": {},
   "outputs": [
    {
     "data": {
      "text/html": [
       "<div>\n",
       "<style scoped>\n",
       "    .dataframe tbody tr th:only-of-type {\n",
       "        vertical-align: middle;\n",
       "    }\n",
       "\n",
       "    .dataframe tbody tr th {\n",
       "        vertical-align: top;\n",
       "    }\n",
       "\n",
       "    .dataframe thead th {\n",
       "        text-align: right;\n",
       "    }\n",
       "</style>\n",
       "<table border=\"1\" class=\"dataframe\">\n",
       "  <thead>\n",
       "    <tr style=\"text-align: right;\">\n",
       "      <th></th>\n",
       "      <th></th>\n",
       "      <th>bstar</th>\n",
       "      <th>dn_o2</th>\n",
       "      <th>ecc</th>\n",
       "      <th>inc</th>\n",
       "      <th>n</th>\n",
       "      <th>raan</th>\n",
       "      <th>datetimes</th>\n",
       "    </tr>\n",
       "    <tr>\n",
       "      <th>norad</th>\n",
       "      <th>date</th>\n",
       "      <th></th>\n",
       "      <th></th>\n",
       "      <th></th>\n",
       "      <th></th>\n",
       "      <th></th>\n",
       "      <th></th>\n",
       "      <th></th>\n",
       "    </tr>\n",
       "  </thead>\n",
       "  <tbody>\n",
       "    <tr>\n",
       "      <th rowspan=\"5\" valign=\"top\">119</th>\n",
       "      <th>2018.916314</th>\n",
       "      <td>0.000116</td>\n",
       "      <td>0.000002</td>\n",
       "      <td>0.009762</td>\n",
       "      <td>66.7291</td>\n",
       "      <td>14.231530</td>\n",
       "      <td>321.6569</td>\n",
       "      <td>2018-12-02 08:54:00.447264</td>\n",
       "    </tr>\n",
       "    <tr>\n",
       "      <th>2018.918618</th>\n",
       "      <td>0.000132</td>\n",
       "      <td>0.000002</td>\n",
       "      <td>0.009762</td>\n",
       "      <td>66.7292</td>\n",
       "      <td>14.231535</td>\n",
       "      <td>319.4778</td>\n",
       "      <td>2018-12-03 05:08:23.052480</td>\n",
       "    </tr>\n",
       "    <tr>\n",
       "      <th>2018.920538</th>\n",
       "      <td>0.000139</td>\n",
       "      <td>0.000002</td>\n",
       "      <td>0.009764</td>\n",
       "      <td>66.7292</td>\n",
       "      <td>14.231539</td>\n",
       "      <td>317.6620</td>\n",
       "      <td>2018-12-03 22:00:21.864672</td>\n",
       "    </tr>\n",
       "    <tr>\n",
       "      <th>2018.921690</th>\n",
       "      <td>0.000145</td>\n",
       "      <td>0.000003</td>\n",
       "      <td>0.009765</td>\n",
       "      <td>66.7292</td>\n",
       "      <td>14.231542</td>\n",
       "      <td>316.5724</td>\n",
       "      <td>2018-12-04 08:07:33.134016</td>\n",
       "    </tr>\n",
       "    <tr>\n",
       "      <th>2018.924762</th>\n",
       "      <td>0.000146</td>\n",
       "      <td>0.000003</td>\n",
       "      <td>0.009766</td>\n",
       "      <td>66.7293</td>\n",
       "      <td>14.231550</td>\n",
       "      <td>313.6672</td>\n",
       "      <td>2018-12-05 11:06:43.134336</td>\n",
       "    </tr>\n",
       "  </tbody>\n",
       "</table>\n",
       "</div>"
      ],
      "text/plain": [
       "                      bstar     dn_o2       ecc      inc          n      raan  \\\n",
       "norad date                                                                      \n",
       "119   2018.916314  0.000116  0.000002  0.009762  66.7291  14.231530  321.6569   \n",
       "      2018.918618  0.000132  0.000002  0.009762  66.7292  14.231535  319.4778   \n",
       "      2018.920538  0.000139  0.000002  0.009764  66.7292  14.231539  317.6620   \n",
       "      2018.921690  0.000145  0.000003  0.009765  66.7292  14.231542  316.5724   \n",
       "      2018.924762  0.000146  0.000003  0.009766  66.7293  14.231550  313.6672   \n",
       "\n",
       "                                    datetimes  \n",
       "norad date                                     \n",
       "119   2018.916314  2018-12-02 08:54:00.447264  \n",
       "      2018.918618  2018-12-03 05:08:23.052480  \n",
       "      2018.920538  2018-12-03 22:00:21.864672  \n",
       "      2018.921690  2018-12-04 08:07:33.134016  \n",
       "      2018.924762  2018-12-05 11:06:43.134336  "
      ]
     },
     "execution_count": 257,
     "metadata": {},
     "output_type": "execute_result"
    }
   ],
   "source": [
    "dfdebreg = dfdeb_m.drop(['line1', 'line2', 'object_id', 'object_name', 'rcs_size', 'debc',\n",
    "                        'apo', 'peri', 'country', 'rev_num', 'int_desig', 'ddn_o6', 'm', 'argp', \n",
    "                         'epoch_day', 'epoch_year', 'period', 'apogee', 'perigee', 'inclination',\n",
    "                        'launch'],axis = 1)\n",
    "dfdebreg.head()"
   ]
  },
  {
   "cell_type": "code",
   "execution_count": 275,
   "metadata": {},
   "outputs": [],
   "source": [
    "oi_num = 0"
   ]
  },
  {
   "cell_type": "code",
   "execution_count": 279,
   "metadata": {},
   "outputs": [
    {
     "name": "stdout",
     "output_type": "stream",
     "text": [
      "0.994624873037069\n"
     ]
    },
    {
     "data": {
      "text/plain": [
       "<matplotlib.collections.PathCollection at 0x1a71a48208>"
      ]
     },
     "execution_count": 279,
     "metadata": {},
     "output_type": "execute_result"
    },
    {
     "data": {
      "image/png": "[encoded data removed]",
      "text/plain": [
       "<Figure size 1080x1080 with 1 Axes>"
      ]
     },
     "metadata": {
      "needs_background": "light"
     },
     "output_type": "display_data"
    }
   ],
   "source": [
    "X = dfdebreg.loc[norads[oi_num]].datetimes.apply(lambda x: x.timestamp()).values\n",
    "\n",
    "X = ppimport.normalize(X.reshape(-1, 1), norm='max', axis=0, copy=True, return_norm=False)\n",
    "\n",
    "X_train, X_test, y_train, y_test = train_test_split(X.reshape(-1, 1), dfdebreg.loc[norads[oi_num]].n.values,\n",
    "                                                    test_size=0.33, random_state=42)\n",
    "\n",
    "treereg.fit(X_train, y_train)\n",
    "\n",
    "y_pred = treereg.predict(X_test)\n",
    "\n",
    "print(r2_score(y_test, y_pred))\n",
    "\n",
    "ax = plt.figure(figsize = (15,15))\n",
    "plt.xlim(0.98,1)\n",
    "plt.ylim(np.min(y_test),np.max(y_test))\n",
    "plt.scatter(X_test, y_test, c = 'red')\n",
    "plt.scatter(X_test, y_pred, c = 'blue')"
   ]
  },
  {
   "cell_type": "code",
   "execution_count": 280,
   "metadata": {},
   "outputs": [
    {
     "name": "stdout",
     "output_type": "stream",
     "text": [
      "0.9911357394776505\n"
     ]
    },
    {
     "data": {
      "text/plain": [
       "<matplotlib.collections.PathCollection at 0x1a71842f60>"
      ]
     },
     "execution_count": 280,
     "metadata": {},
     "output_type": "execute_result"
    },
    {
     "data": {
      "image/png": "[encoded data removed]",
      "text/plain": [
       "<Figure size 1080x1080 with 1 Axes>"
      ]
     },
     "metadata": {
      "needs_background": "light"
     },
     "output_type": "display_data"
    }
   ],
   "source": [
    "X = dfdebreg.loc[norads[oi_num]].datetimes.apply(lambda x: x.timestamp()).values\n",
    "\n",
    "X = ppimport.normalize(X.reshape(-1, 1), norm='max', axis=0, copy=True, return_norm=False)\n",
    "\n",
    "X_train, X_test, y_train, y_test = train_test_split(X.reshape(-1, 1), dfdebreg.loc[norads[oi_num]].ecc.values,\n",
    "                                                    test_size=0.33, random_state=42)\n",
    "\n",
    "treereg.fit(X_train, y_train)\n",
    "\n",
    "y_pred = treereg.predict(X_test)\n",
    "\n",
    "print(r2_score(y_test, y_pred))\n",
    "\n",
    "ax = plt.figure(figsize = (15,15))\n",
    "plt.xlim(0.98,1)\n",
    "plt.ylim(np.min(y_test),np.max(y_test))\n",
    "plt.scatter(X_test, y_test, c = 'red')\n",
    "plt.scatter(X_test, y_pred, c = 'blue')"
   ]
  },
  {
   "cell_type": "code",
   "execution_count": null,
   "metadata": {},
   "outputs": [],
   "source": []
  },
  {
   "cell_type": "code",
   "execution_count": null,
   "metadata": {},
   "outputs": [],
   "source": []
  },
  {
   "cell_type": "code",
   "execution_count": null,
   "metadata": {},
   "outputs": [],
   "source": []
  }
 ],
 "metadata": {
  "kernelspec": {
   "display_name": "Python 3",
   "language": "python",
   "name": "python3"
  },
  "language_info": {
   "codemirror_mode": {
    "name": "ipython",
    "version": 3
   },
   "file_extension": ".py",
   "mimetype": "text/x-python",
   "name": "python",
   "nbconvert_exporter": "python",
   "pygments_lexer": "ipython3",
   "version": "3.7.3"
  }
 },
 "nbformat": 4,
 "nbformat_minor": 2
}
